{
 "cells": [
  {
   "cell_type": "markdown",
   "metadata": {},
   "source": [
    "#  Fish Track Processing Jupyter Notebook"
   ]
  },
  {
   "cell_type": "markdown",
   "metadata": {},
   "source": [
    "### Import all of the functions, and read previously saved data"
   ]
  },
  {
   "cell_type": "code",
   "execution_count": 1,
   "metadata": {
    "collapsed": false
   },
   "outputs": [],
   "source": [
    "%load_ext autoreload\n",
    "%autoreload 2\n",
    "%matplotlib inline  \n",
    "from __future__ import absolute_import\n",
    "from extract_data import extract_data\n",
    "from finbeat_calc import finbeat_calc\n",
    "from store_data import store_data\n",
    "from read_data import read_data\n",
    "from make_subset import make_subset\n",
    "from plot_accel import plot_accel\n",
    "from plot_track import plot_track\n",
    "from check_plots import check_plots\n",
    "from plot_analysis import plot_analysis\n",
    "from sin_corr import sin_corr\n",
    "from plot_fit_sine import plot_fit_sine\n",
    "from fourier_analysis import fourier_analysis\n",
    "from sort_subset import sort_subset\n",
    "from cross_corr import cross_corr\n",
    "from speed_heatmap import speed_heatmap\n",
    "\n",
    "# If you've never extracted the data before, uncomment the next 2 lines, and comment out the code below them\n",
    "#tracklist = extract_data()\n",
    "#finbeats, finbeat_byP, finbeat_byT = finbeat_calc(tracklist.keys(),tracklist)\n",
    "\n",
    "# If you've extracted the data before, uncomment the next 2 lines, and comment out the code above them\n",
    "# Read stored data\n",
    "tracklist, finbeats, finbeat_byP, finbeat_byT = read_data('data.pickle')"
   ]
  },
  {
   "cell_type": "markdown",
   "metadata": {},
   "source": [
    "### Make useful subsets for later use in functions"
   ]
  },
  {
   "cell_type": "code",
   "execution_count": 2,
   "metadata": {
    "collapsed": false
   },
   "outputs": [],
   "source": [
    "bass_subset = make_subset(group_by1='species', identifier1='Bass', tracklist=tracklist)\n",
    "bass_burst_subset = make_subset(group_by1 = 'species', identifier1='Bass', \n",
    "                                 tracklist=tracklist, group_by2 = 'behavior', identifier2='B')\n",
    "bass_steady_subset = make_subset(group_by1 = 'species', identifier1='Bass', \n",
    "                                 tracklist=tracklist, group_by2 = 'behavior', identifier2='S')\n",
    "bass_linacc_subset = make_subset(group_by1 = 'species', identifier1='Bass', \n",
    "                                 tracklist=tracklist, group_by2 = 'behavior', identifier2='A')\n",
    "\n",
    "trout_subset = make_subset(group_by1 = 'species', identifier1 ='BTrout', tracklist=tracklist)\n",
    "trout_burst_subset = make_subset(group_by1 = 'species', identifier1='BTrout', \n",
    "                                 tracklist=tracklist, group_by2 = 'behavior', identifier2='B')\n",
    "trout_steady_subset = make_subset(group_by1 = 'species', identifier1='BTrout', \n",
    "                                 tracklist=tracklist, group_by2 = 'behavior', identifier2='S')\n",
    "trout_linacc_subset = make_subset(group_by1 = 'species', identifier1='BTrout', \n",
    "                                 tracklist=tracklist, group_by2 = 'behavior', identifier2='A')\n"
   ]
  },
  {
   "cell_type": "markdown",
   "metadata": {},
   "source": [
    "### Fit sine waves to data, find the correlations, plot the fit"
   ]
  },
  {
   "cell_type": "code",
   "execution_count": 3,
   "metadata": {
    "collapsed": false
   },
   "outputs": [
    {
     "name": "stderr",
     "output_type": "stream",
     "text": [
      "C:\\Anaconda3\\lib\\site-packages\\numpy\\core\\_methods.py:59: RuntimeWarning: Mean of empty slice.\n",
      "  warnings.warn(\"Mean of empty slice.\", RuntimeWarning)\n",
      "C:\\Anaconda3\\lib\\site-packages\\numpy\\core\\_methods.py:70: RuntimeWarning: invalid value encountered in double_scalars\n",
      "  ret = ret.dtype.type(ret / rcount)\n",
      "C:\\Anaconda3\\lib\\site-packages\\scipy\\optimize\\minpack.py:427: RuntimeWarning: Number of calls to function has reached maxfev = 1000.\n",
      "  warnings.warn(errors[info][0], RuntimeWarning)\n",
      "C:\\Anaconda3\\lib\\site-packages\\scipy\\stats\\stats.py:3038: RuntimeWarning: invalid value encountered in double_scalars\n",
      "  t_squared = r**2 * (df / ((1.0 - r) * (1.0 + r)))\n",
      "C:\\Anaconda3\\lib\\site-packages\\scipy\\stats\\stats.py:5084: RuntimeWarning: invalid value encountered in less\n",
      "  x = np.where(x < 1.0, x, 1.0)  # if x > 1 then return 1.0\n"
     ]
    }
   ],
   "source": [
    "bass_steady_corr_w_sin = sin_corr(bass_steady_subset, tracklist, finbeat_byT)\n",
    "trout_steady_corr_w_sin = sin_corr(trout_steady_subset, tracklist, finbeat_byT)\n",
    "\n",
    "bass_linacc_corr_w_sin = sin_corr(bass_linacc_subset, tracklist, finbeat_byT)\n",
    "trout_linacc_corr_w_sin = sin_corr(trout_linacc_subset, tracklist, finbeat_byT)\n",
    "\n",
    "bass_burst_corr_w_sin = sin_corr(bass_burst_subset, tracklist, finbeat_byT)\n",
    "trout_burst_corr_w_sin = sin_corr(trout_burst_subset, tracklist, finbeat_byT)\n",
    "\n",
    "corr_w_sin = sin_corr(tracklist.keys(), tracklist, finbeat_byP)\n",
    "\n",
    "#bass_steady_corr_w_sin\n",
    "#plot_fit_sine(trout_subset, tracklist, corr_w_sin)"
   ]
  },
  {
   "cell_type": "code",
   "execution_count": 4,
   "metadata": {
    "collapsed": false,
    "scrolled": true
   },
   "outputs": [],
   "source": [
    "#corr_w_sin.sort_values(by=['Behavior', 'InitSpd'])\n",
    "#plot_fit_sine(['BTrout1S11'], tracklist, corr_w_sin)\n",
    "\n"
   ]
  },
  {
   "cell_type": "code",
   "execution_count": null,
   "metadata": {
    "collapsed": false
   },
   "outputs": [],
   "source": []
  },
  {
   "cell_type": "markdown",
   "metadata": {},
   "source": [
    "### Messing around with correlation heatmaps"
   ]
  },
  {
   "cell_type": "code",
   "execution_count": 5,
   "metadata": {
    "collapsed": false
   },
   "outputs": [],
   "source": [
    "bass_steady_corr_sort = bass_steady_corr_w_sin.sort_values(by=['Behavior', 'InitSpd', 'Pearsons'], ascending = False)\n",
    "trout_steady_corr_sort = trout_steady_corr_w_sin.sort_values(by=['Behavior', 'InitSpd', 'Pearsons'], ascending = False)\n",
    "\n",
    "bass_linacc_corr_sort = bass_linacc_corr_w_sin.sort_values(by=['Behavior', 'InitSpd', 'Pearsons'], ascending = False)\n",
    "trout_linacc_corr_sort = trout_linacc_corr_w_sin.sort_values(by=['Behavior', 'InitSpd', 'Pearsons'], ascending = False)\n",
    "\n",
    "bass_burst_corr_sort = bass_burst_corr_w_sin.sort_values(by=['Behavior', 'InitSpd', 'Pearsons'], ascending = False)\n",
    "trout_burst_corr_sort = trout_burst_corr_w_sin.sort_values(by=['Behavior', 'InitSpd', 'Pearsons'], ascending = False)\n",
    "\n",
    "#bass_steady_corr_sort"
   ]
  },
  {
   "cell_type": "code",
   "execution_count": 6,
   "metadata": {
    "collapsed": false
   },
   "outputs": [],
   "source": [
    "import pandas as pd\n",
    "import numpy as np\n",
    "bass_steady_corr_sort= bass_steady_corr_sort.dropna(axis=0, how='any')\n",
    "bass_steady_corr_sort['Pearsons']= bass_steady_corr_sort['Pearsons'].apply(pd.to_numeric)\n",
    "\n",
    "bass_linacc_corr_sort= bass_linacc_corr_sort.dropna(axis=0, how='any')\n",
    "bass_linacc_corr_sort['Pearsons']= bass_linacc_corr_sort['Pearsons'].apply(pd.to_numeric)\n",
    "\n",
    "bass_burst_corr_sort= bass_burst_corr_sort.dropna(axis=0, how='any')\n",
    "bass_burst_corr_sort['Pearsons']= bass_burst_corr_sort['Pearsons'].apply(pd.to_numeric)\n",
    "\n",
    "import seaborn as sns\n",
    "import matplotlib.pyplot as plt\n",
    "#sns.heatmap(bass_steady_corr_sort[['Pearsons']], cmap = 'RdBu_r', vmin = 0.0, vmax = 1.0, square = True)\n",
    "#plt.show()\n",
    "\n",
    "#sns.heatmap(bass_linacc_corr_sort[['Pearsons']], cmap = 'RdBu_r', vmin = 0.0, vmax = 1.0, square = True)\n",
    "#plt.show()\n",
    "\n",
    "#sns.heatmap(bass_burst_corr_sort[['Pearsons']], cmap = 'RdBu_r', vmin = 0.0, vmax = 1.0, square = True)\n",
    "#plt.show()"
   ]
  },
  {
   "cell_type": "code",
   "execution_count": 7,
   "metadata": {
    "collapsed": false
   },
   "outputs": [],
   "source": [
    "trout_steady_corr_sort= trout_steady_corr_sort.dropna(axis=0, how='any')\n",
    "trout_steady_corr_sort['Pearsons']= trout_steady_corr_sort['Pearsons'].apply(pd.to_numeric)\n",
    "\n",
    "trout_linacc_corr_sort= trout_linacc_corr_sort.dropna(axis=0, how='any')\n",
    "trout_linacc_corr_sort['Pearsons']= trout_linacc_corr_sort['Pearsons'].apply(pd.to_numeric)\n",
    "\n",
    "trout_burst_corr_sort= trout_burst_corr_sort.dropna(axis=0, how='any')\n",
    "trout_burst_corr_sort['Pearsons']= trout_burst_corr_sort['Pearsons'].apply(pd.to_numeric)\n",
    "\n",
    "#sns.heatmap(trout_steady_corr_sort[['Pearsons']], cmap = 'RdBu_r', square = True, vmin =0.0, vmax=1.0)\n",
    "#plt.show()\n",
    "\n",
    "#sns.heatmap(trout_linacc_corr_sort[['Pearsons']], cmap = 'RdBu_r', square = True, vmin =0.0, vmax=1.0)\n",
    "#plt.show()\n",
    "\n",
    "#sns.heatmap(trout_burst_corr_sort[['Pearsons']], cmap = 'RdBu_r', square = True, vmin =0.0, vmax=1.0)\n",
    "#plt.show()"
   ]
  },
  {
   "cell_type": "markdown",
   "metadata": {
    "collapsed": false
   },
   "source": [
    "### Calculate pairwise max. cross-correlation and it's associated phase shift of FFTs"
   ]
  },
  {
   "cell_type": "markdown",
   "metadata": {},
   "source": [
    "Note: There's something wrong here that has to do with relative lengths of each trial. Not sure this approach is valid.\n",
    "\n",
    "Note 3/26/2017: Padding the ends of the shorter Fourier transforms seems to have helped some. Maybe. "
   ]
  },
  {
   "cell_type": "code",
   "execution_count": 8,
   "metadata": {
    "collapsed": false
   },
   "outputs": [],
   "source": [
    "bass_subset = sort_subset(bass_subset, tracklist)\n",
    "trout_subset = sort_subset(trout_subset, tracklist)"
   ]
  },
  {
   "cell_type": "code",
   "execution_count": 9,
   "metadata": {
    "collapsed": false
   },
   "outputs": [
    {
     "ename": "ValueError",
     "evalue": "invalid number of arguments",
     "output_type": "error",
     "traceback": [
      "\u001b[0;31m---------------------------------------------------------------------------\u001b[0m",
      "\u001b[0;31mValueError\u001b[0m                                Traceback (most recent call last)",
      "\u001b[0;32m<ipython-input-9-d6bd36a3d0a3>\u001b[0m in \u001b[0;36m<module>\u001b[0;34m()\u001b[0m\n\u001b[1;32m      2\u001b[0m \u001b[0mtrout_cross_corr\u001b[0m \u001b[1;33m=\u001b[0m \u001b[0mcross_corr\u001b[0m\u001b[1;33m(\u001b[0m\u001b[0mtrout_subset\u001b[0m\u001b[1;33m,\u001b[0m \u001b[0mtracklist\u001b[0m\u001b[1;33m)\u001b[0m\u001b[1;33m\u001b[0m\u001b[0m\n\u001b[1;32m      3\u001b[0m \u001b[1;33m\u001b[0m\u001b[0m\n\u001b[0;32m----> 4\u001b[0;31m \u001b[0mbass_speeds\u001b[0m \u001b[1;33m=\u001b[0m \u001b[0mspeed_heatmap\u001b[0m\u001b[1;33m(\u001b[0m\u001b[0mbass_subset\u001b[0m\u001b[1;33m,\u001b[0m \u001b[0mtracklist\u001b[0m\u001b[1;33m)\u001b[0m\u001b[1;33m\u001b[0m\u001b[0m\n\u001b[0m\u001b[1;32m      5\u001b[0m \u001b[0mtrout_speeds\u001b[0m \u001b[1;33m=\u001b[0m \u001b[0mspeed_heatmap\u001b[0m\u001b[1;33m(\u001b[0m\u001b[0mtrout_subset\u001b[0m\u001b[1;33m,\u001b[0m \u001b[0mtracklist\u001b[0m\u001b[1;33m)\u001b[0m\u001b[1;33m\u001b[0m\u001b[0m\n\u001b[1;32m      6\u001b[0m \u001b[1;33m\u001b[0m\u001b[0m\n",
      "\u001b[0;32mC:\\Users\\Kara\\PycharmProjects\\FishTrackProcessing\\speed_heatmap.py\u001b[0m in \u001b[0;36mspeed_heatmap\u001b[0;34m(subset, tracklist)\u001b[0m\n\u001b[1;32m     10\u001b[0m             \u001b[0mspeed2\u001b[0m \u001b[1;33m=\u001b[0m \u001b[0mtracklist\u001b[0m\u001b[1;33m[\u001b[0m\u001b[0mj\u001b[0m\u001b[1;33m]\u001b[0m\u001b[1;33m[\u001b[0m\u001b[1;34m'start_spd'\u001b[0m\u001b[1;33m]\u001b[0m\u001b[1;33m\u001b[0m\u001b[0m\n\u001b[1;32m     11\u001b[0m \u001b[1;33m\u001b[0m\u001b[0m\n\u001b[0;32m---> 12\u001b[0;31m             \u001b[0mspeed_diff\u001b[0m \u001b[1;33m=\u001b[0m \u001b[0mnp\u001b[0m\u001b[1;33m.\u001b[0m\u001b[0mabsolute\u001b[0m\u001b[1;33m(\u001b[0m\u001b[0mnp\u001b[0m\u001b[1;33m.\u001b[0m\u001b[0msubtract\u001b[0m\u001b[1;33m(\u001b[0m\u001b[0mspeed\u001b[0m\u001b[1;33m-\u001b[0m\u001b[0mspeed2\u001b[0m\u001b[1;33m)\u001b[0m\u001b[1;33m)\u001b[0m\u001b[1;33m\u001b[0m\u001b[0m\n\u001b[0m\u001b[1;32m     13\u001b[0m             \u001b[0mspeed_diff_mat\u001b[0m\u001b[1;33m[\u001b[0m\u001b[0mi\u001b[0m\u001b[1;33m]\u001b[0m\u001b[1;33m[\u001b[0m\u001b[0mj\u001b[0m\u001b[1;33m]\u001b[0m \u001b[1;33m=\u001b[0m \u001b[0mspeed_diff\u001b[0m\u001b[1;33m\u001b[0m\u001b[0m\n\u001b[1;32m     14\u001b[0m \u001b[1;33m\u001b[0m\u001b[0m\n",
      "\u001b[0;31mValueError\u001b[0m: invalid number of arguments"
     ]
    }
   ],
   "source": [
    "bass_cross_corr = cross_corr(bass_subset, tracklist)\n",
    "trout_cross_corr = cross_corr(trout_subset, tracklist)\n",
    "\n",
    "bass_speeds = speed_heatmap(bass_subset, tracklist)\n",
    "trout_speeds = speed_heatmap(trout_subset, tracklist)\n",
    "\n",
    "mask_bass = np.zeros_like(bass_cross_corr, dtype=np.bool)\n",
    "mask_bass[np.triu_indices_from(mask_bass,k=1)] = True\n",
    "\n",
    "mask_trout = np.zeros_like(trout_cross_corr, dtype=np.bool)\n",
    "mask_trout[np.triu_indices_from(mask_trout,k=1)] = True\n",
    "\n",
    "import seaborn as sns\n",
    "plt.style.use('mystyle.mplstyle')\n",
    "sns.heatmap(bass_cross_corr,mask=mask_bass,cmap = 'RdBu_r',square=True)\n",
    "plt.show()\n",
    "sns.heatmap(bass_speeds, mask=mask_bass, cmap ='RdBu', square=True)\n",
    "plt.show()\n",
    "sns.heatmap(trout_cross_corr,mask=mask_trout,cmap = 'RdBu_r',square=True)\n",
    "plt.show()\n",
    "sns.heatmap(trout_speeds, mask=mask_trout, cmap ='RdBu', square=True)\n",
    "plt.show()"
   ]
  },
  {
   "cell_type": "code",
   "execution_count": null,
   "metadata": {
    "collapsed": false
   },
   "outputs": [],
   "source": []
  },
  {
   "cell_type": "code",
   "execution_count": null,
   "metadata": {
    "collapsed": false
   },
   "outputs": [],
   "source": []
  },
  {
   "cell_type": "code",
   "execution_count": null,
   "metadata": {
    "collapsed": false
   },
   "outputs": [],
   "source": []
  },
  {
   "cell_type": "code",
   "execution_count": null,
   "metadata": {
    "collapsed": false
   },
   "outputs": [],
   "source": []
  },
  {
   "cell_type": "code",
   "execution_count": null,
   "metadata": {
    "collapsed": false
   },
   "outputs": [],
   "source": []
  },
  {
   "cell_type": "code",
   "execution_count": null,
   "metadata": {
    "collapsed": false
   },
   "outputs": [],
   "source": []
  },
  {
   "cell_type": "code",
   "execution_count": null,
   "metadata": {
    "collapsed": false
   },
   "outputs": [],
   "source": []
  },
  {
   "cell_type": "markdown",
   "metadata": {
    "collapsed": false
   },
   "source": [
    "### Trying to figure out wavelets"
   ]
  },
  {
   "cell_type": "code",
   "execution_count": null,
   "metadata": {
    "collapsed": false
   },
   "outputs": [],
   "source": [
    "import matplotlib.pyplot as plt\n",
    "import pywt \n",
    "from scipy import signal\n",
    "\n",
    "testdata = tracklist['Bass1S08']['data']['pt2y_smth']\n",
    "time = tracklist['Bass1S08']['data'].index.values\n",
    "framerate = float(tracklist['Bass1S08']['FPS'])\n",
    "scales = np.arange(2,20,1)\n",
    "\n",
    "\n",
    "wavelet_choice = pywt.Wavelet('bior3.1')\n",
    "print(wavelet_choice)\n",
    "for i in np.arange(2,20,1):\n",
    "    freq = pywt.scale2frequency(wavelet_choice, i)\n",
    "    print(': scale=',i, ' freq=', freq)"
   ]
  },
  {
   "cell_type": "code",
   "execution_count": null,
   "metadata": {
    "collapsed": false
   },
   "outputs": [],
   "source": [
    "x = time\n",
    "data = testdata\n",
    "wavelet = 'bior3.1'\n",
    "level = 1\n",
    "order = 'freq'\n",
    "interpolation = 'nearest'\n",
    "cmap = plt.cm.afmhot\n",
    "\n",
    "wp = pywt.WaveletPacket(data, wavelet, 'symmetric', maxlevel = level)\n",
    "nodes = wp.get_level(level, order = order)\n",
    "labels = [n.path for n in nodes]\n",
    "values = np.array([n.data for n in nodes], 'd')\n",
    "values = abs(values)\n",
    "fig = plt.figure()\n",
    "fig.subplots_adjust(hspace=0.2, bottom=.03, left=.07, right=.97, top=.92)\n",
    "ax = fig.add_subplot(2, 1, 1)\n",
    "ax.set_title(\"Data\")\n",
    "ax.plot(x, data, 'b')\n",
    "ax.set_xlim(0, x[-1])\n",
    "\n",
    "ax = fig.add_subplot(2, 1, 2)\n",
    "ax.set_title(\"Wavelet packet coefficients at level %d\" % level)\n",
    "ax.imshow(values, interpolation=interpolation, cmap=cmap, aspect=\"auto\",\n",
    "          origin=\"lower\")\n",
    "ax.set_yticks(np.arange(0.5, len(labels) + 0.5), labels)\n",
    "\n",
    "# Show spectrogram and wavelet packet coefficients\n",
    "fig2 = plt.figure()\n",
    "ax2 = fig2.add_subplot(211)\n",
    "ax2.specgram(data, NFFT=64, noverlap=32, Fs=2, cmap=cmap,\n",
    "             interpolation='bilinear')\n",
    "ax2.set_title(\"Spectrogram of signal\")\n",
    "ax3 = fig2.add_subplot(212)\n",
    "ax3.imshow(values, origin='upper', extent=[-1, 1, -1, 1],\n",
    "           interpolation='nearest')\n",
    "ax3.set_title(\"Wavelet packet coefficients\")\n",
    "\n",
    "\n",
    "plt.show()\n",
    "\n"
   ]
  },
  {
   "cell_type": "code",
   "execution_count": null,
   "metadata": {
    "collapsed": false
   },
   "outputs": [],
   "source": [
    "import numpy as np\n",
    "import matplotlib.pyplot as plt\n",
    "\n",
    "import pywt\n",
    "\n",
    "\n",
    "x = np.linspace(0, 1, num=512)\n",
    "data = np.sin(250 * np.pi * x**2)\n",
    "\n",
    "wavelet = 'db2'\n",
    "level = 4\n",
    "order = \"freq\"  # other option is \"normal\"\n",
    "interpolation = 'nearest'\n",
    "cmap = plt.cm.afmhot\n",
    "\n",
    "# Construct wavelet packet\n",
    "wp = pywt.WaveletPacket(data, wavelet, 'symmetric', maxlevel=level)\n",
    "nodes = wp.get_level(level, order=order)\n",
    "labels = [n.path for n in nodes]\n",
    "values = np.array([n.data for n in nodes], 'd')\n",
    "values = abs(values)\n",
    "\n",
    "# Show signal and wavelet packet coefficients\n",
    "fig = plt.figure()\n",
    "fig.subplots_adjust(hspace=0.2, bottom=.03, left=.07, right=.97, top=.92)\n",
    "ax = fig.add_subplot(2, 1, 1)\n",
    "ax.set_title(\"linchirp signal\")\n",
    "ax.plot(x, data, 'b')\n",
    "ax.set_xlim(0, x[-1])\n",
    "\n",
    "ax = fig.add_subplot(2, 1, 2)\n",
    "ax.set_title(\"Wavelet packet coefficients at level %d\" % level)\n",
    "ax.imshow(values, interpolation=interpolation, cmap=cmap, aspect=\"auto\",\n",
    "          origin=\"lower\", extent=[0, 1, 0, len(values)])\n",
    "ax.set_yticks(np.arange(0.5, len(labels) + 0.5), labels)\n",
    "\n",
    "# Show spectrogram and wavelet packet coefficients\n",
    "fig2 = plt.figure()\n",
    "ax2 = fig2.add_subplot(211)\n",
    "ax2.specgram(data, NFFT=64, noverlap=32, Fs=2, cmap=cmap,\n",
    "             interpolation='bilinear')\n",
    "ax2.set_title(\"Spectrogram of signal\")\n",
    "ax3 = fig2.add_subplot(212)\n",
    "ax3.imshow(values, origin='upper', extent=[-1, 1, -1, 1],\n",
    "           interpolation='nearest')\n",
    "ax3.set_title(\"Wavelet packet coefficients\")\n",
    "\n",
    "\n",
    "plt.show()"
   ]
  },
  {
   "cell_type": "code",
   "execution_count": null,
   "metadata": {
    "collapsed": false
   },
   "outputs": [],
   "source": [
    "\n"
   ]
  },
  {
   "cell_type": "code",
   "execution_count": null,
   "metadata": {
    "collapsed": false
   },
   "outputs": [],
   "source": []
  },
  {
   "cell_type": "code",
   "execution_count": null,
   "metadata": {
    "collapsed": true
   },
   "outputs": [],
   "source": []
  }
 ],
 "metadata": {
  "kernelspec": {
   "display_name": "Python 3",
   "language": "python",
   "name": "python3"
  },
  "language_info": {
   "codemirror_mode": {
    "name": "ipython",
    "version": 3
   },
   "file_extension": ".py",
   "mimetype": "text/x-python",
   "name": "python",
   "nbconvert_exporter": "python",
   "pygments_lexer": "ipython3",
   "version": "3.4.5"
  }
 },
 "nbformat": 4,
 "nbformat_minor": 0
}
